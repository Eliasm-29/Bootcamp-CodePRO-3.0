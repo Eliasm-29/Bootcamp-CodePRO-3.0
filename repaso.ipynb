{
 "cells": [
  {
   "cell_type": "markdown",
   "id": "159bebb6",
   "metadata": {},
   "source": [
    "### Challenge Funciones\n",
    "Crear una función calcular_area(base, altura) que retorne el área de un triángulo. \n",
    "\n",
    "Luego lo multiplicar por dos el resultado del area e imprimir el total"
   ]
  },
  {
   "cell_type": "code",
   "execution_count": 1,
   "id": "ac61cb35",
   "metadata": {},
   "outputs": [
    {
     "name": "stdout",
     "output_type": "stream",
     "text": [
      "El resultado total es 20.0\n"
     ]
    }
   ],
   "source": [
    "def area_triangulo(base, altura):\n",
    "    area = (base * altura) / 2\n",
    "    return area\n",
    "\n",
    "base_usuario = float(input('Ingrese la base del triangulo'))\n",
    "altura_usuario = float(input('Ingrese la altura del triangulo'))\n",
    "\n",
    "resultado = area_triangulo(base_usuario, altura_usuario) * 2\n",
    "print(f'El resultado total es {resultado}')\n",
    "    "
   ]
  },
  {
   "cell_type": "markdown",
   "id": "efd54541",
   "metadata": {},
   "source": [
    "### Challenge Condicionales\n",
    "Crear un programa que solicite un número  al usuario\n",
    "\n",
    "y nos diga si el numero es:\n",
    "    'positivo' \n",
    "    'negativo' \n",
    "    'o Cero. '"
   ]
  },
  {
   "cell_type": "code",
   "execution_count": null,
   "id": "9dec82be",
   "metadata": {},
   "outputs": [
    {
     "name": "stdout",
     "output_type": "stream",
     "text": [
      "El numero es cero\n"
     ]
    }
   ],
   "source": [
    "numero = float(input('Ingrese un numero'))\n",
    "\n",
    "if numero > 0:\n",
    "    print('El numero es positivo')\n",
    "elif numero < 0:\n",
    "    print('El numero es negativo')\n",
    "else:\n",
    "    print('El numero es cero')"
   ]
  },
  {
   "cell_type": "markdown",
   "id": "5dc216cf",
   "metadata": {},
   "source": [
    "### Challenge For\n",
    "Teniendo una lista de números del 1 al 10, crea un programa que muestre solo los numeros pares. \n",
    "\n",
    "Luego sumar todos los números de la lista y mostrar el total."
   ]
  },
  {
   "cell_type": "code",
   "execution_count": null,
   "id": "d5eed6b0",
   "metadata": {},
   "outputs": [
    {
     "name": "stdout",
     "output_type": "stream",
     "text": [
      "2\n",
      "4\n",
      "6\n",
      "8\n",
      "10\n",
      "La suma total de los numeros de la lista es: 55\n"
     ]
    }
   ],
   "source": [
    "lista_de_numeros = [1,2,3,4,5,6,7,8,9,10]\n",
    "suma = 0\n",
    "for numero in lista_de_numeros:\n",
    "    suma = suma + numero\n",
    "    if numero % 2 == 0:\n",
    "        print(numero)\n",
    "\n",
    "print (f'La suma total de los numeros de la lista es: {suma}')\n"
   ]
  },
  {
   "cell_type": "markdown",
   "id": "3dc01bd2",
   "metadata": {},
   "source": [
    "### Challenge While\n",
    "Crear una lista con números ingresados por el usuario hasta que escriba 0 (luego salir del bucle), y luego mostrar el promedio.\n"
   ]
  }
 ],
 "metadata": {
  "kernelspec": {
   "display_name": ".venv",
   "language": "python",
   "name": "python3"
  },
  "language_info": {
   "codemirror_mode": {
    "name": "ipython",
    "version": 3
   },
   "file_extension": ".py",
   "mimetype": "text/x-python",
   "name": "python",
   "nbconvert_exporter": "python",
   "pygments_lexer": "ipython3",
   "version": "3.13.5"
  }
 },
 "nbformat": 4,
 "nbformat_minor": 5
}
