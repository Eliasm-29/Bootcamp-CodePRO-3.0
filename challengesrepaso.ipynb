{
 "cells": [
  {
   "cell_type": "markdown",
   "id": "5e271552",
   "metadata": {},
   "source": [
    "### Challenge 🤺\n",
    "El precio de alquilar un polideportivo es 120.000 guaranies. Dependiendo de las siguientes condiciones, se puede obtener un descuento:\n",
    "\n",
    "    Si es mayor de edad y está trabajando -> Paga el 100%\n",
    "    Si es menor de edad y está trabajando -> Paga el 95%\n",
    "    Si es mayor de edad y no está trabajando -> Paga el 75%\n",
    "    Si es menor de edad y no está trabajando -> Paga el 50%\n",
    "\n",
    "Teniendo la edad de la persona y si trabaja o no, imprimir el precio de alquilar el polideportivo.\n"
   ]
  },
  {
   "cell_type": "code",
   "execution_count": 39,
   "id": "974acd48",
   "metadata": {},
   "outputs": [
    {
     "name": "stdout",
     "output_type": "stream",
     "text": [
      "El precio del alquiler a pagar es de 90.000 guaraníes\n"
     ]
    }
   ],
   "source": [
    "while True:\n",
    "    edad_input = input('Ingrese su edad: ')\n",
    "    if edad_input.isdigit():\n",
    "        edad = int(edad_input)\n",
    "        break\n",
    "    else:\n",
    "        print('Por favor, ingrese un número válido.')\n",
    "\n",
    "\n",
    "trabaja = input('Está trabajando actualmente? (si/no): ').lower()\n",
    "\n",
    "def calcular_precio_alquiler(edad, trabaja):\n",
    "    precio_alquiler = 120000\n",
    "    if edad >= 18 and trabaja == 'si':\n",
    "        return precio_alquiler \n",
    "    elif edad < 18 and trabaja == 'si':\n",
    "        precio_alquiler = precio_alquiler * 0.95\n",
    "        return precio_alquiler\n",
    "    elif edad >= 18 and trabaja == 'no':\n",
    "        precio_alquiler = precio_alquiler * 0.75\n",
    "        return precio_alquiler\n",
    "    else:\n",
    "        precio_alquiler = precio_alquiler * 0.50\n",
    "        return precio_alquiler\n",
    "\n",
    "precio_final = calcular_precio_alquiler(edad, trabaja)\n",
    "    \n",
    "if trabaja == 'si' or trabaja == 'no':\n",
    "    print(f'El precio del alquiler a pagar es de {int(precio_final):,} guaraníes'.replace((\",\"), (\".\")))\n",
    "else:\n",
    "    print('Por favor ingrese si o no')\n"
   ]
  },
  {
   "cell_type": "markdown",
   "id": "516484cf",
   "metadata": {},
   "source": [
    "### Challenge 🤺\n",
    "Crear una funcion que pida como parametro el nombre, correo y contrasenha. \n",
    "\n",
    "retornar true si la contrasenha tiene mas de 4 caracteres y el correo contiene un \"@\" De lo contrario, retornar False\n",
    "\n",
    "Repetir el proceso 3 veces"
   ]
  },
  {
   "cell_type": "code",
   "execution_count": 50,
   "id": "7b8cafa2",
   "metadata": {},
   "outputs": [
    {
     "name": "stdout",
     "output_type": "stream",
     "text": [
      "False\n",
      "True\n",
      "False\n"
     ]
    }
   ],
   "source": [
    "for i in range(3):\n",
    "    nombre_usuario = input('Ingrese su nombre')\n",
    "    correo_usuario = input('Ingrese su correo')\n",
    "    contraseña_usuario = input('Ingrese su contraseña')\n",
    "    def log_in(nombre, correo, contraseña):\n",
    "        if len(contraseña) > 4 and \"@\" in correo:\n",
    "            return True\n",
    "        else:\n",
    "            return False\n",
    "\n",
    "    print(log_in(nombre_usuario, correo_usuario, contraseña_usuario))\n"
   ]
  },
  {
   "cell_type": "code",
   "execution_count": null,
   "id": "2e2ac518",
   "metadata": {},
   "outputs": [
    {
     "name": "stdout",
     "output_type": "stream",
     "text": [
      "True\n",
      "True\n",
      "True\n"
     ]
    }
   ],
   "source": [
    "\n",
    "\n",
    "#def log_in(nombre, correo, contraseña):\n",
    "#    if len(contraseña) > 4 and \"@\" in correo:\n",
    "#        return True\n",
    "#    else:\n",
    "#        return False\n",
    "\n",
    "#nombre_usuario = input('Ingrese su nombre')\n",
    "#correo_usuario = input('Ingrese su correo')\n",
    "#contraseña_usuario = input('Ingrese su contraseña')\n",
    "\n",
    "#print(log_in(nombre_usuario, correo_usuario, contraseña_usuario))\n",
    "#print(log_in(nombre_usuario, correo_usuario, contraseña_usuario))\n",
    "#print(log_in(nombre_usuario, correo_usuario, contraseña_usuario))\n"
   ]
  },
  {
   "cell_type": "markdown",
   "id": "80303c40",
   "metadata": {},
   "source": [
    "### Challenge 🤺 - 15 min\n",
    "Crear un programa que reciba una lista de supermercado e imprima todos los elementos de la lista enumerados."
   ]
  },
  {
   "cell_type": "code",
   "execution_count": 7,
   "id": "d1a1dcf1",
   "metadata": {},
   "outputs": [
    {
     "name": "stdout",
     "output_type": "stream",
     "text": [
      "1. Banana\n",
      "2. Manzana\n",
      "3. Naranja\n"
     ]
    }
   ],
   "source": [
    "lista_supermercado = []\n",
    "enumerar = 0\n",
    "\n",
    "while True:\n",
    "    articulo = input(\"Ingrese un articulo\")\n",
    "    if articulo != \"0\":\n",
    "        lista_supermercado.append(articulo)\n",
    "    else:\n",
    "        break\n",
    "\n",
    "for elemento in lista_supermercado:\n",
    "    enumerar = enumerar + 1\n",
    "    print(f'{enumerar}. {elemento}')\n"
   ]
  },
  {
   "cell_type": "markdown",
   "id": "57821dc7",
   "metadata": {},
   "source": [
    "### Challenge 🤺\n",
    "Definir una variable que contenga un numero y preguntar al usuario por el numero hasta que acierte.\n",
    "\n",
    "El programa debe tener una cantidad limitada de intentos.\n",
    "\n",
    "Si falla imprimir si el numero a adivinar es mayor o menor que el numero ingresado y debe indicar la cantidad de intentos que le quedan.\n",
    "\n",
    "Si acierta imprimir un mensaje."
   ]
  },
  {
   "cell_type": "code",
   "execution_count": 13,
   "id": "5566a70f",
   "metadata": {},
   "outputs": [
    {
     "name": "stdout",
     "output_type": "stream",
     "text": [
      "El número a adivinar es mayor\n",
      "Te quedan 4 intentos\n",
      "El número a adivinar menor\n",
      "Te quedan 3 intentos\n",
      "El número a adivinar es mayor\n",
      "Te quedan 2 intentos\n",
      "¡Adivinaste!\n"
     ]
    }
   ],
   "source": [
    "numero = 7\n",
    "intentos = 5\n",
    "\n",
    "while intentos > 0:\n",
    "    numero_ingresado = int(input(\"Ingrese un número: \"))\n",
    "    if numero_ingresado == numero:\n",
    "        print(\"¡Adivinaste!\")\n",
    "        break\n",
    "    else:\n",
    "        intentos -= 1\n",
    "        if numero_ingresado > numero:\n",
    "            print(\"El número a adivinar menor\")\n",
    "            print(f\"Te quedan {intentos} intentos\")\n",
    "        else:\n",
    "            print(\"El número a adivinar es mayor\")\n",
    "            print(f\"Te quedan {intentos} intentos\")\n",
    "\n",
    "if intentos == 0:\n",
    "    print(\"¡Lo siento, no adivinaste el número!\")"
   ]
  }
 ],
 "metadata": {
  "kernelspec": {
   "display_name": "Python 3",
   "language": "python",
   "name": "python3"
  },
  "language_info": {
   "codemirror_mode": {
    "name": "ipython",
    "version": 3
   },
   "file_extension": ".py",
   "mimetype": "text/x-python",
   "name": "python",
   "nbconvert_exporter": "python",
   "pygments_lexer": "ipython3",
   "version": "3.11.9"
  }
 },
 "nbformat": 4,
 "nbformat_minor": 5
}
