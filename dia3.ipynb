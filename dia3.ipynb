{
 "cells": [
  {
   "cell_type": "markdown",
   "id": "85310ff5",
   "metadata": {},
   "source": [
    "### Challenge 1 🤺 - 15m\n",
    "Crear una función que imprima la variable palabra."
   ]
  },
  {
   "cell_type": "code",
   "execution_count": 5,
   "id": "5fb60694",
   "metadata": {},
   "outputs": [
    {
     "name": "stdout",
     "output_type": "stream",
     "text": [
      "Hola\n"
     ]
    }
   ],
   "source": [
    "def imprimir_variable():\n",
    "    palabra = input('Ingrese una palabra')\n",
    "    print(palabra)\n",
    "\n",
    "imprimir_variable()"
   ]
  },
  {
   "cell_type": "markdown",
   "id": "947ed943",
   "metadata": {},
   "source": [
    "### Challenge 2 🤺 - 20 min\n",
    "Crear una función que reciba dos letras (parámetros) y que verifique si son iguales:\n",
    "\n",
    "- Si son iguales, imprimir \"Las letras son iguales\".\n",
    "\n",
    "- De lo contrario, imprimir \"Las letras son diferentes\"."
   ]
  },
  {
   "cell_type": "code",
   "execution_count": 15,
   "id": "d168e7f3",
   "metadata": {},
   "outputs": [
    {
     "name": "stdout",
     "output_type": "stream",
     "text": [
      "Las letras son iguales\n"
     ]
    }
   ],
   "source": [
    "def verificar(letra1, letra2):\n",
    "    if letra1 == letra2:\n",
    "        print ('Las letras son iguales')\n",
    "    else:\n",
    "        print ('Las letras son diferentes')\n",
    "\n",
    "letra1_usuario = input('Ingrese una letra')\n",
    "letra2_usuario = input('Ingrese una letra')\n",
    "\n",
    "verificar(letra1_usuario, letra2_usuario)\n"
   ]
  },
  {
   "cell_type": "markdown",
   "id": "cc1d2b95",
   "metadata": {},
   "source": [
    "### Challenge 3 🤺 - 20m\n",
    "Crear una función que reciba dos parámetros (una palabra y un número), y que retorne True si el número es igual a la cantidad de letras de la palabra. En caso contrario, que retorne False.\n",
    "\n",
    "Pista: cantidad de letras de una palabra en python\n"
   ]
  },
  {
   "cell_type": "code",
   "execution_count": null,
   "id": "0402917c",
   "metadata": {},
   "outputs": [
    {
     "name": "stdout",
     "output_type": "stream",
     "text": [
      "True\n"
     ]
    }
   ],
   "source": [
    "def retornar(palabra, número):\n",
    "    if len(palabra) == número:\n",
    "        return True\n",
    "    else:\n",
    "        return False\n",
    "    \n",
    "palabra_usuario = input('Ingrese una palabra')\n",
    "numero_usuario = int(input('Ingrese un número'))\n",
    "\n",
    "retornar(palabra_usuario, numero_usuario)\n",
    "\n",
    "resultado = retornar(palabra_usuario, numero_usuario)\n",
    "print(resultado)\n"
   ]
  },
  {
   "cell_type": "markdown",
   "id": "21ce9552",
   "metadata": {},
   "source": [
    "### Challenge 5 🤺 - 25m\n",
    "Pedir al usuario que ingrese 1 palabra, luego convertir esa palabra a una lista con sus caracteres con list(). Agregar esa lista de caracteres a una lista llamada palabras_ingresadas. Repetir el proceso 3 veces. Cada vez que se agregue una lista de caracteres, imprimir la lista palabras_ingresadas.\n",
    "\n",
    "\n",
    "Ejemplo del resultado esperado:\n",
    "\n",
    "[['c', 'i', 'e', 'l', 'o']]\n",
    " # Al ingresar la primera palabra\n",
    "\n",
    "[['c', 'i', 'e', 'l', 'o'], ['c', 'a', 'l', 'o', 'r']]\n",
    " # Al ingresar la segunda palabra\n",
    "\n",
    "[['c', 'i', 'e', 'l', 'o'], ['c', 'a', 'l', 'o', 'r'], ['n', 'u', 'b', 'e', 's']]\n",
    " # Al ingresar la tercera palabra"
   ]
  },
  {
   "cell_type": "code",
   "execution_count": null,
   "id": "b2e55852",
   "metadata": {},
   "outputs": [],
   "source": []
  },
  {
   "cell_type": "code",
   "execution_count": null,
   "id": "a5192f09",
   "metadata": {},
   "outputs": [],
   "source": []
  },
  {
   "cell_type": "code",
   "execution_count": 6,
   "id": "6ff2571e",
   "metadata": {},
   "outputs": [
    {
     "name": "stdout",
     "output_type": "stream",
     "text": [
      "[['h', 'o', 'l', 'a']]\n",
      "[['h', 'o', 'l', 'a'], ['c', 'o', 'm', 'o']]\n",
      "[['h', 'o', 'l', 'a'], ['c', 'o', 'm', 'o'], ['e', 's', 't', 'a', 's']]\n"
     ]
    }
   ],
   "source": [
    "lista_palabras_ingresadas = []\n",
    "\n",
    "for i in range(3):\n",
    "    palabra = input('Ingrese una palabra')\n",
    "    lista_de_caracteres = list(palabra)\n",
    "\n",
    "    lista_palabras_ingresadas.append(lista_de_caracteres)\n",
    "\n",
    "    print(lista_palabras_ingresadas)"
   ]
  },
  {
   "cell_type": "markdown",
   "id": "74eeb814",
   "metadata": {},
   "source": [
    "### Challenge 6 🤺 - 25m\n",
    "Dada la lista de ejemplo: \n",
    "\n",
    "lista = [['h', 'o', 'l', 'i', 's'], ['h', 'e', 'l', 'l', 'o'], ['h', 'a', 'l', 'l', 'o']]\n",
    "\n",
    "Crear una función que imprima una grilla (lista de listas), una línea por cada lista dentro de la lista principal.\n",
    "\n",
    "Ejemplo del resultado esperado:\n",
    "\n",
    "\n",
    "['h', 'o', 'l', 'i', 's']\n",
    "['h', 'e', 'l', 'l', 'o']\n",
    "['h', 'a', 'l', 'l', 'o']"
   ]
  },
  {
   "cell_type": "code",
   "execution_count": 12,
   "id": "4ed814d4",
   "metadata": {},
   "outputs": [
    {
     "name": "stdout",
     "output_type": "stream",
     "text": [
      "['h', 'o', 'l', 'i', 's']\n",
      "['h', 'e', 'l', 'l', 'o']\n",
      "['h', 'a', 'l', 'l', 'o']\n"
     ]
    }
   ],
   "source": [
    "def imprimir_grilla():\n",
    "    lista_de_listas = [['h', 'o', 'l', 'i', 's'], ['h', 'e', 'l', 'l', 'o'], ['h', 'a', 'l', 'l', 'o']]\n",
    "    for lista in lista_de_listas:\n",
    "        print(lista)\n",
    "\n",
    "imprimir_grilla()"
   ]
  },
  {
   "cell_type": "code",
   "execution_count": null,
   "id": "19387bce",
   "metadata": {},
   "outputs": [
    {
     "data": {
      "text/plain": [
       "['[a]', '[r]', '[b]', '[o]', '[l]']"
      ]
     },
     "execution_count": 15,
     "metadata": {},
     "output_type": "execute_result"
    }
   ],
   "source": [
    "\n",
    "def obtener_fila_verificada(palabra_a_encontrar, palabra_ingresada):\n",
    "    cantidad_de_letras = 5\n",
    "\n",
    "    letras_verficadas = []\n",
    "\n",
    "    for posicion in range(cantidad_de_letras):\n",
    "        #Si la letra coincide con la posicion\n",
    "        letras_son_iguales = palabra_a_encontrar[posicion] == palabra_ingresada[posicion]\n",
    "\n",
    "        la_letra_existe_en_la_palabra = palabra_ingresada[posicion] in palabra_a_encontrar\n",
    "\n",
    "        if letras_son_iguales:\n",
    "\n",
    "            letras_verficadas.append(\"[\" + palabra_ingresada[posicion] + \"]\")\n",
    "        \n",
    "        elif la_letra_existe_en_la_palabra:\n",
    "            letras_verficadas.append(f\"({palabra_ingresada[posicion]})\")\n",
    "\n",
    "        else:\n",
    "            letras_verficadas.append(palabra_ingresada[posicion])\n",
    "\n",
    "    return letras_verficadas\n",
    "\n",
    "obtener_fila_verificada(\"arbol\", \"arbol\")"
   ]
  },
  {
   "cell_type": "code",
   "execution_count": null,
   "id": "daa14836",
   "metadata": {},
   "outputs": [
    {
     "name": "stdout",
     "output_type": "stream",
     "text": [
      "La palabra ingresada debe tener 5 letras\n",
      "La palabra ingresada debe tener 5 letras\n",
      "La palabra ingresada debe tener 5 letras\n",
      "La palabra ingresada debe tener 5 letras\n",
      "La palabra ingresada debe tener 5 letras\n",
      "La palabra ingresada debe tener 5 letras\n",
      "La palabra ingresada debe tener 5 letras\n"
     ]
    }
   ],
   "source": [
    "cantidad_intentos = 5\n",
    "while cantidad_intentos > 0:\n",
    "    palabra_ingresada = input('Ingrese una palabra de 5 letras')\n",
    "    if len(palabra_ingresada) == 5:\n",
    "        cantidad_intentos = cantidad_intentos - 1\n",
    "        print(f'Te quedan {cantidad_intentos} intentos')\n",
    "    else:\n",
    "        print('La palabra ingresada debe tener 5 letras')\n",
    "\n"
   ]
  },
  {
   "cell_type": "code",
   "execution_count": null,
   "id": "ca09b501",
   "metadata": {},
   "outputs": [
    {
     "name": "stdout",
     "output_type": "stream",
     "text": [
      "La palabra ingresada debe tener 5 letras\n",
      "La palabra ingresada debe tener 5 letras\n",
      "La palabra ingresada debe tener 5 letras\n"
     ]
    }
   ],
   "source": [
    "palabra_a_encontrar = \"arbol\"\n",
    "def obtener_fila_verificada(palabra_a_encontrar, palabra_ingresada):\n",
    "    cantidad_de_letras = 5\n",
    "\n",
    "    letras_verficadas = []\n",
    "\n",
    "    for posicion in range(cantidad_de_letras):\n",
    "        #Si la letra coincide con la posicion\n",
    "        letras_son_iguales = palabra_a_encontrar[posicion] == palabra_ingresada[posicion]\n",
    "\n",
    "        la_letra_existe_en_la_palabra = palabra_ingresada[posicion] in palabra_a_encontrar\n",
    "\n",
    "        if letras_son_iguales:\n",
    "\n",
    "            letras_verficadas.append(\"[\" + palabra_ingresada[posicion] + \"]\")\n",
    "        \n",
    "        elif la_letra_existe_en_la_palabra:\n",
    "            letras_verficadas.append(f\"({palabra_ingresada[posicion]})\")\n",
    "\n",
    "        else:\n",
    "            letras_verficadas.append(palabra_ingresada[posicion])\n",
    "\n",
    "    return letras_verficadas\n",
    "\n",
    "cantidad_intentos = 5\n",
    "while cantidad_intentos > 0:\n",
    "    palabra_ingresada = input('Ingrese una palabra de 5 letras')\n",
    "    if len(palabra_ingresada) == 5:\n",
    "        cantidad_intentos = cantidad_intentos - 1\n",
    "    else:\n",
    "        print('La palabra ingresada debe tener 5 letras')"
   ]
  },
  {
   "cell_type": "code",
   "execution_count": null,
   "id": "9414b4d1",
   "metadata": {},
   "outputs": [
    {
     "name": "stdout",
     "output_type": "stream",
     "text": [
      "                     ['[]', '[]', '[]', '[]']\n",
      "pai, dale de nuevo\n",
      "                     ['c', '(a)', 's', '[a]']\n",
      "                     ['c', '(a)', 'r', '[a]']\n"
     ]
    }
   ],
   "source": [
    "def obtener_fila_verificada(palabra_a_encontrar, palabra_ingresada):\n",
    "    cantidad_de_letras = len(palabra_ingresada)\n",
    "\n",
    "    letras_verficadas = []\n",
    "\n",
    "    for posicion in range(cantidad_de_letras):\n",
    "        #Si la letra coincide con la posicion\n",
    "        letras_son_iguales = palabra_a_encontrar[posicion] == palabra_ingresada[posicion]\n",
    "\n",
    "        la_letra_existe_en_la_palabra = palabra_ingresada[posicion] in palabra_a_encontrar\n",
    "\n",
    "        if letras_son_iguales:\n",
    "\n",
    "            letras_verficadas.append(\"[\" + palabra_ingresada[posicion] + \"]\")\n",
    "\n",
    "        elif la_letra_existe_en_la_palabra:\n",
    "            letras_verficadas.append(f\"({palabra_ingresada[posicion]})\")\n",
    "\n",
    "        else:\n",
    "            letras_verficadas.append(palabra_ingresada[posicion])\n",
    "\n",
    "    return letras_verficadas\n",
    "\n",
    "#zona configuracion inicial\n",
    "palabra_del_dia = \"hola\"\n",
    "intentos = 5\n",
    "\n",
    "palabra_muestra = []\n",
    "for i in range(len(palabra_del_dia)):\n",
    "    palabra_muestra.append(\"[]\")\n",
    "print(\"                    \",palabra_muestra)\n",
    "\n",
    "for i in range(intentos):\n",
    "    while True:\n",
    "        palabra_ingresada = input(\"Palabra: \")\n",
    "        if len(palabra_ingresada) != len(palabra_del_dia):\n",
    "            print(\"pai, dale de nuevo\")\n",
    "        else:\n",
    "            break\n",
    "    if palabra_del_dia == palabra_ingresada:\n",
    "        print()\n",
    "        print(\"felilcidades, ganaste el juego\")\n",
    "        break\n",
    "    else:\n",
    "        print(\"                    \",obtener_fila_verificada(palabra_del_dia, palabra_ingresada))\n",
    "    if i == (intentos-1):\n",
    "        print()\n",
    "        print(\"Probana de nuevo bro\")"
   ]
  },
  {
   "cell_type": "code",
   "execution_count": null,
   "id": "37070141",
   "metadata": {},
   "outputs": [],
   "source": [
    "verificar = len(palabra_ingresada) == len(palabra_del_dia)\n",
    "while verificar:\n",
    "    "
   ]
  }
 ],
 "metadata": {
  "kernelspec": {
   "display_name": ".venv",
   "language": "python",
   "name": "python3"
  },
  "language_info": {
   "codemirror_mode": {
    "name": "ipython",
    "version": 3
   },
   "file_extension": ".py",
   "mimetype": "text/x-python",
   "name": "python",
   "nbconvert_exporter": "python",
   "pygments_lexer": "ipython3",
   "version": "3.13.5"
  }
 },
 "nbformat": 4,
 "nbformat_minor": 5
}
