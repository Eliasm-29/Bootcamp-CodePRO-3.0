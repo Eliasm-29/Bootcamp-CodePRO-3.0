{
 "cells": [
  {
   "cell_type": "markdown",
   "id": "b676cb63",
   "metadata": {},
   "source": []
  },
  {
   "cell_type": "code",
   "execution_count": 1,
   "id": "03f94fe4",
   "metadata": {},
   "outputs": [
    {
     "name": "stdout",
     "output_type": "stream",
     "text": [
      "Hola mundo\n"
     ]
    }
   ],
   "source": [
    "print('Hola mundo')"
   ]
  },
  {
   "cell_type": "code",
   "execution_count": 3,
   "id": "2f6c06df",
   "metadata": {},
   "outputs": [
    {
     "name": "stdout",
     "output_type": "stream",
     "text": [
      "Elias\n"
     ]
    }
   ],
   "source": [
    "nombre_apellido = 'Elias'\n",
    "print (nombre_apellido)"
   ]
  },
  {
   "cell_type": "code",
   "execution_count": 4,
   "id": "1ca0859d",
   "metadata": {},
   "outputs": [
    {
     "name": "stdout",
     "output_type": "stream",
     "text": [
      "naranja\n",
      "4\n",
      "banana\n"
     ]
    }
   ],
   "source": [
    "fruta = 'naranja'\n",
    "print (fruta)\n",
    "\n",
    "cantidad_de_fruta = 4\n",
    "print (cantidad_de_fruta)\n",
    "\n",
    "fruta = 'banana'\n",
    "print (fruta)"
   ]
  },
  {
   "cell_type": "code",
   "execution_count": 7,
   "id": "95441ecb",
   "metadata": {},
   "outputs": [
    {
     "name": "stdout",
     "output_type": "stream",
     "text": [
      "20\n",
      "1.8\n",
      "20 True\n"
     ]
    }
   ],
   "source": [
    "edad = 20 # - int / integer\n",
    "altura = 1.80 # - float\n",
    "nombre = 'Pedro' # - str / string\n",
    "feliz = True # - bool\n",
    "\n",
    "print (edad)\n",
    "print (altura)\n",
    "print (edad, feliz)"
   ]
  },
  {
   "cell_type": "code",
   "execution_count": 10,
   "id": "3bb0bfb2",
   "metadata": {},
   "outputs": [
    {
     "name": "stdout",
     "output_type": "stream",
     "text": [
      "Elias 20 Asunción\n"
     ]
    }
   ],
   "source": [
    "#Primer Challenge\n",
    "nombre = 'Elias'\n",
    "edad = 20\n",
    "ciudad = 'Asunción'\n",
    "\n",
    "print (nombre, edad, ciudad)"
   ]
  },
  {
   "cell_type": "code",
   "execution_count": 14,
   "id": "227eb22c",
   "metadata": {},
   "outputs": [
    {
     "name": "stdout",
     "output_type": "stream",
     "text": [
      "El costo total es: 20000\n",
      "Mi vuelto es: 30000\n",
      "El saldo de mi billetera es: 30000\n"
     ]
    }
   ],
   "source": [
    "producto1 = 'papa frita'\n",
    "costo_producto1 = 12000\n",
    "producto2 = 'coca'\n",
    "costo_producto2 = 8000\n",
    "billetera = 50000\n",
    "\n",
    "costo_producto = costo_producto1 + costo_producto2\n",
    "print ('El costo total es:', costo_producto)\n",
    "\n",
    "print ('Mi vuelto es:', billetera - costo_producto)\n",
    "\n",
    "billetera = billetera - costo_producto\n",
    "\n",
    "print ('El saldo de mi billetera es:', billetera)"
   ]
  },
  {
   "cell_type": "code",
   "execution_count": 19,
   "id": "2c957b85",
   "metadata": {},
   "outputs": [
    {
     "name": "stdout",
     "output_type": "stream",
     "text": [
      "La cantidad de frutas es: 12\n",
      "La cantidad de frutas restantes es: 2\n"
     ]
    }
   ],
   "source": [
    "#Segundo Challenge\n",
    "#Challenge 🤺 - 20m\n",
    "#Suma: asignar dos números en dos variables diferentes cantidad_de_manzanas y cantidad_de_naranjas. Luego sumar ambas variables en cantidad_de_frutas. Imprimir la última variable.\n",
    "#Resta: asignar un valor numérico a la variable frutas_vendidas. Luego, asignar la resta entre cantidad_de_frutas y frutas_vendidas a la variable frutas_restantes. Imprimir la última variable.\n",
    "\n",
    "#Suma\n",
    "cantidad_de_manzanas = 5\n",
    "cantidad_de_naranjas = 7\n",
    "cantidad_de_frutas = cantidad_de_manzanas + cantidad_de_naranjas\n",
    "print ('La cantidad de frutas es:', cantidad_de_frutas)\n",
    "\n",
    "#Resta\n",
    "frutas_vendidas = 10\n",
    "frutas_restantes = cantidad_de_frutas - frutas_vendidas\n",
    "print ('La cantidad de frutas restantes es:', frutas_restantes)"
   ]
  },
  {
   "cell_type": "code",
   "execution_count": 27,
   "id": "fa8553ad",
   "metadata": {},
   "outputs": [
    {
     "name": "stdout",
     "output_type": "stream",
     "text": [
      "Juan\n",
      "López\n",
      "JuanLópez\n",
      "Juan López\n",
      "Mi nombre es: Juan y mi apellido es: López\n",
      "Mi nombre es Juan mi apellido es López\n",
      "Mi nombre es Juan mi apellido es López\n"
     ]
    }
   ],
   "source": [
    "nombre = \"Juan\"\n",
    "apellido = 'López'\n",
    "print (nombre)\n",
    "print (apellido)\n",
    "\n",
    "#Concatenación\n",
    "print (nombre + apellido)\n",
    "\n",
    "print (nombre + ' ' + apellido)\n",
    "\n",
    "print ('Mi nombre es:', nombre, 'y mi apellido es:', apellido)\n",
    "\n",
    "print ('Mi nombre es ' + nombre +' mi apellido es ' + apellido)\n",
    "\n",
    "print (f'Mi nombre es {nombre} mi apellido es {apellido}')"
   ]
  },
  {
   "cell_type": "markdown",
   "id": "c2ccdb99",
   "metadata": {},
   "source": [
    "Challenge 🤺 - 15m\n",
    "Asignar el nombre y el apellido de tu compañera/o a las variables nombre y apellido. Luego, imprimir una frase, utilizando las variables.\n",
    "EJEMPLO: \"Hola. Me llamo Claudia Melgarejo. Mucho gusto.\""
   ]
  },
  {
   "cell_type": "code",
   "execution_count": null,
   "id": "77a8811e",
   "metadata": {},
   "outputs": [
    {
     "name": "stdout",
     "output_type": "stream",
     "text": [
      "Hola. Me llamo Benja Young. Mucho gusto\n"
     ]
    }
   ],
   "source": [
    "nombre = \"Benja\"\n",
    "apellido = \"Young\"\n",
    "print (f\"Hola. Me llamo {nombre} {apellido}. Mucho gusto\")\n"
   ]
  },
  {
   "cell_type": "code",
   "execution_count": 35,
   "id": "334b59d8",
   "metadata": {},
   "outputs": [
    {
     "name": "stdout",
     "output_type": "stream",
     "text": [
      "Elias\n",
      "20\n"
     ]
    }
   ],
   "source": [
    "nombre = input('Ingrese su nombre')\n",
    "print(nombre)\n",
    "\n",
    "año = input('Cuantos años tenés?')\n",
    "print(año)"
   ]
  },
  {
   "cell_type": "code",
   "execution_count": 36,
   "id": "e019866b",
   "metadata": {},
   "outputs": [
    {
     "name": "stdout",
     "output_type": "stream",
     "text": [
      "<class 'int'>\n",
      "<class 'int'>\n"
     ]
    }
   ],
   "source": [
    "edad = 20\n",
    "print(type(edad))\n",
    "\n",
    "año = int(input('Ingrese su edad'))\n",
    "\n",
    "print(type(año))"
   ]
  },
  {
   "cell_type": "markdown",
   "id": "3058d850",
   "metadata": {},
   "source": [
    "Challenge 🤺 - 15m\n",
    "Solicitar al usuario ingresar dos números y almacenarlos en dos variables. Luego, imprimir la suma de los dos números."
   ]
  },
  {
   "cell_type": "code",
   "execution_count": null,
   "id": "18e9067e",
   "metadata": {},
   "outputs": [
    {
     "name": "stdout",
     "output_type": "stream",
     "text": [
      "La suma de los dos números es: 20\n"
     ]
    }
   ],
   "source": [
    "número1 = int(input('ingrese el primer número'))\n",
    "número2 = int(input('Ingrese el segundo número'))                                                                                                                                                                          número'))\n",
    "suma = número1 + número2\n",
    "\n",
    "print('La suma de los dos números es:', suma)\n"
   ]
  },
  {
   "cell_type": "markdown",
   "id": "c5ab51de",
   "metadata": {},
   "source": [
    "FUNCIONES"
   ]
  },
  {
   "cell_type": "code",
   "execution_count": null,
   "id": "ba989cb3",
   "metadata": {},
   "outputs": [],
   "source": [
    "def nombre_de_la_funcion"
   ]
  },
  {
   "cell_type": "code",
   "execution_count": 41,
   "id": "aee7781d",
   "metadata": {},
   "outputs": [
    {
     "name": "stdout",
     "output_type": "stream",
     "text": [
      "Hola, soy Elias y tengo 20 años\n"
     ]
    }
   ],
   "source": [
    "def saludo():\n",
    "    nombre = input('Ingrese su nombre')\n",
    "    edad = input('Ingrese su edad')\n",
    "    print(f'Hola, soy {nombre} y tengo {edad} años')\n",
    "\n",
    "saludo()"
   ]
  },
  {
   "cell_type": "markdown",
   "id": "d227817b",
   "metadata": {},
   "source": [
    "Challenge 🤺 - 20m\n",
    "Crear una función de un proceso que se les ocurra que tenga varios pasos.\n",
    "\n",
    "Ejecutar la función 3 veces.\n"
   ]
  },
  {
   "cell_type": "code",
   "execution_count": null,
   "id": "5660638c",
   "metadata": {},
   "outputs": [
    {
     "name": "stdout",
     "output_type": "stream",
     "text": [
      "El producto listado es Gaseosa tiene un precio de 10.000 guaraníes, es de la marca Coca Cola y la cantidad listada es 50\n",
      "El producto listado es Gaseosa tiene un precio de 10.000 guaraníes, es de la marca Fanta y la cantidad listada es 50\n",
      "El producto listado es Gaseosa tiene un precio de 10.000 guaraníes, es de la marca Sprite y la cantidad listada es 50\n"
     ]
    }
   ],
   "source": [
    "def listar_producto():\n",
    "    producto = input('Ingrese el nombre del producto')\n",
    "    precio = int(input('Ingrese el precio del producto'))\n",
    "    marca = input('Ingrese la marca del producto')\n",
    "    cantidad = int(input('Ingrese la cantidad de producto'))\n",
    "    print(f'El producto listado es {producto} tiene un precio de {precio} guaraníes, es de la marca {marca} y la cantidad listada es {cantidad}')\n",
    "\n",
    "listar_producto()\n",
    "listar_producto()\n",
    "listar_producto()\n",
    "\n"
   ]
  },
  {
   "cell_type": "code",
   "execution_count": null,
   "id": "2f23bd02",
   "metadata": {},
   "outputs": [
    {
     "name": "stdout",
     "output_type": "stream",
     "text": [
      "Hola, soy Elias y tengo 20 años\n",
      "Hola, soy Elias y tengo 20 años\n",
      "None\n"
     ]
    }
   ],
   "source": [
    "\n",
    "\n",
    "def saludo(nombre, edad):\n",
    "    print(f'Hola, soy {nombre} y tengo {edad} años')\n",
    "\n",
    "saludo ('Elias', 20)\n"
   ]
  },
  {
   "cell_type": "code",
   "execution_count": 53,
   "id": "53d3ba5f",
   "metadata": {},
   "outputs": [
    {
     "name": "stdout",
     "output_type": "stream",
     "text": [
      "Cortar Tomate\n",
      "Mezclar tartara\n",
      "Colocamos en el plato\n",
      "Cortar cebolla\n",
      "Mezclar ajo\n",
      "Colocamos en el bowl\n"
     ]
    }
   ],
   "source": [
    "def preparar_ensalada(ingrediente1, recipiente, salsa):\n",
    "    print(f'Cortar {ingrediente1}')\n",
    "    print(f'Mezclar {salsa}')\n",
    "    print(f'Colocamos en el {recipiente}')\n",
    "\n",
    "preparar_ensalada('Tomate', 'plato', 'tartara')\n",
    "\n",
    "preparar_ensalada('cebolla', 'bowl', 'ajo')"
   ]
  },
  {
   "cell_type": "markdown",
   "id": "2de63605",
   "metadata": {},
   "source": [
    "## Challenge 🤺 - 25m\n",
    "Escribir una funcion que nos pregunte las caracteristicas de un elemento a comprar e imprima el elemento con sus caracteristicas.\n"
   ]
  },
  {
   "cell_type": "code",
   "execution_count": null,
   "id": "b63095ab",
   "metadata": {},
   "outputs": [
    {
     "name": "stdout",
     "output_type": "stream",
     "text": [
      "Marca HP\n",
      "Procesador Intel Core i9\n",
      "RAM 16 GB\n",
      "Almacenamiento 1 TB\n"
     ]
    }
   ],
   "source": [
    "def comprar_laptop(marca, procesador, ram, almacenamiento):\n",
    "    print('Caracteristícas de la laptop')\n",
    "    print(f'Marca {marca}')\n",
    "    print(f'Procesador {procesador}')\n",
    "    print(f'RAM {ram}')\n",
    "    print(f'Almacenamiento {almacenamiento}')\n",
    "\n",
    "marca_usuario = input('Ingrese la marca a comprar')\n",
    "procesador_usuario = input('Ingrese el procesador deseado')\n",
    "ram_usuario = input('Ingrese la cantidad de RAM deseada')\n",
    "almacenamiento_usuario = input('Ingrese el almacenamiento deseado')\n",
    "\n",
    "comprar_laptop(marca_usuario, procesador_usuario, ram_usuario, almacenamiento_usuario)\n",
    "    \n",
    "    "
   ]
  },
  {
   "cell_type": "markdown",
   "id": "f1bbd05d",
   "metadata": {},
   "source": [
    "## ALCANCE"
   ]
  },
  {
   "cell_type": "markdown",
   "id": "987b7d38",
   "metadata": {},
   "source": [
    "Una variable es considerada local cuando se encuentra dentro de la función, y global cuando se encuentra afuera\n"
   ]
  }
 ],
 "metadata": {
  "kernelspec": {
   "display_name": ".venv",
   "language": "python",
   "name": "python3"
  },
  "language_info": {
   "codemirror_mode": {
    "name": "ipython",
    "version": 3
   },
   "file_extension": ".py",
   "mimetype": "text/x-python",
   "name": "python",
   "nbconvert_exporter": "python",
   "pygments_lexer": "ipython3",
   "version": "3.13.5"
  }
 },
 "nbformat": 4,
 "nbformat_minor": 5
}
