{
 "cells": [
  {
   "cell_type": "markdown",
   "id": "1c3a67ee",
   "metadata": {},
   "source": [
    "### Repaso\n",
    "- Variables\n",
    "- Tipos de datos:\n",
    "    - str - string - Texto\n",
    "    - int - integer - Enteros\n",
    "    - bool - boolean - True - False\n",
    "    - float - floating - Decimales\n",
    "- Operadores aritméticos\n",
    "    - +\n",
    "    - -\n",
    "    - *\n",
    "    - /\n",
    "    - //\n",
    "    - %\n",
    "- Concatenación\n",
    "    - +\n",
    "    - f\n",
    "- Funciones\n",
    "    - def\n",
    "    - Parametros \n",
    "    - Argumentos\n",
    "- Variables\n",
    "    - Locales\n",
    "    - Globales"
   ]
  },
  {
   "cell_type": "code",
   "execution_count": 1,
   "id": "a93d199b",
   "metadata": {},
   "outputs": [
    {
     "name": "stdout",
     "output_type": "stream",
     "text": [
      "Verificar los datos\n",
      "Retirar el vehiculo\n",
      "Cobrar el servicio\n",
      "Entregar al dueño\n"
     ]
    }
   ],
   "source": [
    "def buscar_auto(marca, color, chapa, modelo):\n",
    "    print('Verificar los datos')\n",
    "    print('Retirar el vehiculo')\n",
    "    print('Cobrar el servicio')\n",
    "    print('Entregar al dueño')\n",
    "\n",
    "marca_del_vehiculo_usuario = input('Ingrese la marca de tu vehiculo: ')\n",
    "color_del_vehiculo_usuario = input('Ingrese el color de tu vehiculo: ')\n",
    "chapa_del_vehiculo_usuario = input('Ingrese la chapa de tu vehiculo: ')\n",
    "modelo_del_vehiculo_usuario = input('Ingrese el modelo de tu vehiculo: ')\n",
    "\n",
    "buscar_auto(marca_del_vehiculo_usuario, color_del_vehiculo_usuario, chapa_del_vehiculo_usuario, modelo_del_vehiculo_usuario)\n"
   ]
  },
  {
   "cell_type": "markdown",
   "id": "430d3d60",
   "metadata": {},
   "source": [
    "### CONDICIONALES\n",
    "Las condicionales nos permiten validar una condición en específico para así permirtir o denegar que python ejecute una instrucción o pase a la siguiente"
   ]
  },
  {
   "cell_type": "markdown",
   "id": "ce8a791c",
   "metadata": {},
   "source": [
    "## Operadores de comparación\n",
    " - > - mayor que otro\n",
    " - < - menor que otro\n",
    " - >= - mayor o igual que otro\n",
    " - <= - menor o igual que otro\n",
    " - == - igual que otro\n",
    " - != - desigual o distinto a otro"
   ]
  },
  {
   "cell_type": "code",
   "execution_count": 4,
   "id": "a4744819",
   "metadata": {},
   "outputs": [
    {
     "name": "stdout",
     "output_type": "stream",
     "text": [
      "False\n",
      "False\n"
     ]
    }
   ],
   "source": [
    "edad1 = 20\n",
    "edad2 = 19\n",
    "nombre1 = 'Ana'\n",
    "nombre2 = 'ana'\n",
    "\n",
    "print(edad1 < edad2)\n",
    "\n",
    "print(nombre1 == nombre2)\n"
   ]
  },
  {
   "cell_type": "code",
   "execution_count": 7,
   "id": "119d7c6a",
   "metadata": {},
   "outputs": [
    {
     "name": "stdout",
     "output_type": "stream",
     "text": [
      "es mayor de edad\n"
     ]
    }
   ],
   "source": [
    "edad = 20\n",
    "\n",
    "if edad < 18:\n",
    "    print('es menor de edad')\n",
    "else:\n",
    "    print('es mayor de edad')"
   ]
  },
  {
   "cell_type": "markdown",
   "id": "786a4fd1",
   "metadata": {},
   "source": [
    "### Challenge🤺 - 20m\n",
    "Escribe un programa que pregunte al usuario por su edad y determine si tiene edad suficiente para comprar y consumir alcohol.\n",
    "- Si el usuario tiene mas de 18 pero menos de 21 impirmir \"Podes tomar pero no comprar\"\n",
    "- Si el usuario tiene menos de 18 imprimir \"Juguito nomas\"\n",
    "- Si el usuario tiene mas de 21 imprimir \"Hace lo que quieras\""
   ]
  },
  {
   "cell_type": "code",
   "execution_count": 14,
   "id": "98276fbc",
   "metadata": {},
   "outputs": [
    {
     "name": "stdout",
     "output_type": "stream",
     "text": [
      "Podes tomar pero no comprar\n"
     ]
    }
   ],
   "source": [
    "edad = int(input('Ingrese su edad:'))\n",
    "\n",
    "if edad >= 18 and edad < 21:\n",
    "    print ('Podes tomar pero no comprar')\n",
    "elif edad < 18:\n",
    "    print ('Juguito nomás')\n",
    "else:\n",
    "    print ('Hace lo que quieras')\n"
   ]
  },
  {
   "cell_type": "code",
   "execution_count": 19,
   "id": "3602a49e",
   "metadata": {},
   "outputs": [
    {
     "name": "stdout",
     "output_type": "stream",
     "text": [
      "Podes tomar pero no comprar\n"
     ]
    }
   ],
   "source": [
    "edad = int(input('Ingrese su edad:'))\n",
    "\n",
    "if edad >= 21:\n",
    "    print ('Hace lo que quieras')\n",
    "elif edad < 18:\n",
    "    print ('Juguito nomas')\n",
    "else:\n",
    "    print ('Podes tomar pero no comprar')"
   ]
  },
  {
   "cell_type": "code",
   "execution_count": 25,
   "id": "444b1aad",
   "metadata": {},
   "outputs": [
    {
     "name": "stdout",
     "output_type": "stream",
     "text": [
      "Juguito nomás\n"
     ]
    }
   ],
   "source": [
    "edad = int(input('Ingrese su edad:'))\n",
    "\n",
    "if edad >= 21:\n",
    "    print ('Hace lo que quieras')\n",
    "elif edad > 17:\n",
    "    print ('Podes tomar pero no comprar')\n",
    "else:\n",
    "    print ('Juguito nomás')\n"
   ]
  },
  {
   "cell_type": "code",
   "execution_count": null,
   "id": "810a3362",
   "metadata": {},
   "outputs": [
    {
     "name": "stdout",
     "output_type": "stream",
     "text": [
      "Juguito nomas\n"
     ]
    }
   ],
   "source": [
    "edad = int(input('Ingrese su edad'))\n",
    "\n",
    "if edad < 18:\n",
    "    print('Juguito nomás')\n",
    "elif edad <= 21:\n",
    "    print('Podes tomar pero no comprar')\n",
    "else:\n",
    "    print('Hace lo que quieras')"
   ]
  },
  {
   "cell_type": "markdown",
   "id": "8cd650b7",
   "metadata": {},
   "source": [
    "### Challenge 🤺 - 30m\n",
    "Escribir un programa en el que se pregunte al usuario por una temperatura (en grados Celsius), imprima la temperatura escrita, y luego clasificar la temperatura ingresada en los siguientes niveles:\n",
    "\n",
    "- Entre -10 y 18 grados, que imprima \"Fresquete\".\n",
    "- Entre 19 y 30 grados, que imprima \"Calor'i\".\n",
    "- Entre 31 y 45 grados, que imprima \"Hakuuuuuu\".\n",
    "- Para todo lo demás, imprimir \"Ñamano mba'e!\"."
   ]
  },
  {
   "cell_type": "code",
   "execution_count": null,
   "id": "29f7e18e",
   "metadata": {},
   "outputs": [
    {
     "name": "stdout",
     "output_type": "stream",
     "text": [
      "La temperatura actual es -11.0\n",
      "Ñamano mba'e\n"
     ]
    }
   ],
   "source": [
    "temperatura = float(input(\"Ingrese la temperatura actual\"))\n",
    "\n",
    "print (f'La temperatura actual es: {temperatura} celsius')\n",
    "if temperatura <= -10 or temperatura >= 45:\n",
    "    print(\"Ñamano mba'e\")\n",
    "\n",
    "elif temperatura <= 18:\n",
    "    print(\"Fresquete\")\n",
    "\n",
    "elif temperatura <= 30:\n",
    "    print(\"Calor'i\")\n",
    "\n",
    "else:\n",
    "    print(\"Hakuuuuuuu\")\n",
    "\n",
    "\n",
    "    \n",
    "\n"
   ]
  },
  {
   "cell_type": "markdown",
   "id": "5a44ce0c",
   "metadata": {},
   "source": [
    "### Challenge 🤺 - 20m\n",
    "Escribir un programa que almacene una contraseña en una variable, y pregunte al usuario por la contraseña hasta que introduzca la contraseña correcta.\n",
    "\n",
    "Cuando el usuario ingrese la contrasena correcta, imprimir un mensaje secreto."
   ]
  },
  {
   "cell_type": "code",
   "execution_count": 64,
   "id": "3aa9f0f0",
   "metadata": {},
   "outputs": [
    {
     "name": "stdout",
     "output_type": "stream",
     "text": [
      "Contraseña incorrecta. Intente de nuevo.\n",
      "El tereré sin hielo es solo agua con tristeza. Contraseña correcta\n"
     ]
    }
   ],
   "source": [
    "contraseña_correcta = \"Penguin123\"\n",
    "\n",
    "while True:\n",
    "    contraseña_usuario = input(\"Ingrese su contraseña: \")\n",
    "    if contraseña_usuario == contraseña_correcta:\n",
    "        print(\"El tereré sin hielo es solo agua con tristeza. Contraseña correcta\")\n",
    "        break\n",
    "    else:\n",
    "        print(\"Contraseña incorrecta. Intente de nuevo.\")\n",
    "\n",
    "\n"
   ]
  },
  {
   "cell_type": "markdown",
   "id": "faa73cea",
   "metadata": {},
   "source": [
    "### Listas\n",
    "\n",
    "- Se escribe el nombre de la lista seguido de un \"=\" y luego se usan corchetes con los elementos entre comillas y separados con comas\n",
    "- Se utiliza .append para agregar elementos\n",
    "- Para modificar se utiliza el nombre de la lista y el índice dentro del corchete seguido de un \"=\" y la modificación entre comillas\n",
    "- Para eliminar se utiliza el método pop() con el índice del elemento a eliminar entre parentesis\n",
    "- len para contar la cantidad de elementos que tiene la lista"
   ]
  },
  {
   "cell_type": "markdown",
   "id": "9ccea93a",
   "metadata": {},
   "source": [
    "### Challenge 🤺 - 20m\n",
    "Crear una lista de 5 elementos. Luego, seguir los siguientes pasos.\n",
    "\n",
    "- Agregar un elemento al final de la lista.\n",
    "\n",
    "- Modificar el segundo elemento.\n",
    "\n",
    "- Eliminar el tercer elemento."
   ]
  },
  {
   "cell_type": "code",
   "execution_count": null,
   "id": "1b7a971e",
   "metadata": {},
   "outputs": [
    {
     "name": "stdout",
     "output_type": "stream",
     "text": [
      "['Negro', 'Blanco', 'Azul', 'Amarillo', 'Verde']\n",
      "['Negro', 'Blanco', 'Azul', 'Amarillo', 'Verde', 'Naranja']\n",
      "['Negro', 'Gris', 'Azul', 'Amarillo', 'Verde', 'Naranja']\n",
      "['Negro', 'Gris', 'Amarillo', 'Verde', 'Naranja']\n"
     ]
    }
   ],
   "source": [
    "lista_colores = [\"Negro\", \"Blanco\", \"Azul\", \"Amarillo\", \"Verde\"]\n",
    "print(lista_colores)\n",
    "\n",
    "#Añadir elemento\n",
    "lista_colores.append(\"Naranja\")\n",
    "print(lista_colores)\n",
    "\n",
    "#Modificar elemento\n",
    "lista_colores[1] = \"Gris\"\n",
    "print(lista_colores)\n",
    "\n",
    "#Eliminar elemento\n",
    "lista_colores.pop(2)\n",
    "print(lista_colores)\n"
   ]
  },
  {
   "cell_type": "markdown",
   "id": "1c29893e",
   "metadata": {},
   "source": [
    "### Bucle Iterativo (for)"
   ]
  },
  {
   "cell_type": "markdown",
   "id": "dc204fe9",
   "metadata": {},
   "source": [
    "### Challenge 🤺 - 20m\n",
    "Escribir un programa que itere en un rango de 10 veces. Por cada iteracion multiplicar el iterador por dos e imprimir el resultado."
   ]
  },
  {
   "cell_type": "code",
   "execution_count": 66,
   "id": "48e1a864",
   "metadata": {},
   "outputs": [
    {
     "name": "stdout",
     "output_type": "stream",
     "text": [
      "0\n",
      "2\n",
      "4\n",
      "6\n",
      "8\n",
      "10\n",
      "12\n",
      "14\n",
      "16\n",
      "18\n"
     ]
    }
   ],
   "source": [
    "for i in range(10):\n",
    "    print(i*2)"
   ]
  },
  {
   "cell_type": "code",
   "execution_count": 68,
   "id": "749c808a",
   "metadata": {},
   "outputs": [
    {
     "name": "stdout",
     "output_type": "stream",
     "text": [
      "El resultado de la multiplicación de 0 por 2 es = 0\n",
      "El resultado de la multiplicación de 1 por 2 es = 2\n",
      "El resultado de la multiplicación de 2 por 2 es = 4\n",
      "El resultado de la multiplicación de 3 por 2 es = 6\n",
      "El resultado de la multiplicación de 4 por 2 es = 8\n",
      "El resultado de la multiplicación de 5 por 2 es = 10\n",
      "El resultado de la multiplicación de 6 por 2 es = 12\n",
      "El resultado de la multiplicación de 7 por 2 es = 14\n",
      "El resultado de la multiplicación de 8 por 2 es = 16\n",
      "El resultado de la multiplicación de 9 por 2 es = 18\n"
     ]
    }
   ],
   "source": [
    "for i in range(10):\n",
    "    multiplicacion = i * 2\n",
    "    print(f\"El resultado de la multiplicación de {i} por 2 es = {multiplicacion}\")"
   ]
  },
  {
   "cell_type": "code",
   "execution_count": 75,
   "id": "fa7c02cf",
   "metadata": {},
   "outputs": [
    {
     "name": "stdout",
     "output_type": "stream",
     "text": [
      "El resultado de la multiplicación de 0 por 2 es = 0\n",
      "El resultado de la multiplicación de 1 por 2 es = 2\n",
      "El resultado de la multiplicación de 2 por 2 es = 4\n",
      "El resultado de la multiplicación de 3 por 2 es = 6\n",
      "El resultado de la multiplicación de 4 por 2 es = 8\n",
      "El resultado de la multiplicación de 5 por 2 es = 10\n",
      "El resultado de la multiplicación de 6 por 2 es = 12\n",
      "El resultado de la multiplicación de 7 por 2 es = 14\n",
      "El resultado de la multiplicación de 8 por 2 es = 16\n",
      "El resultado de la multiplicación de 9 por 2 es = 18\n"
     ]
    }
   ],
   "source": [
    "for i in range(10):\n",
    "    multiplicacion = i * 2\n",
    "    print(f\"El resultado de la multiplicación de {i} por 2 es = {multiplicacion}\")"
   ]
  },
  {
   "cell_type": "markdown",
   "id": "a6a32600",
   "metadata": {},
   "source": [
    "### Challenge 🤺 - 20m\n",
    "Recorrer los elementos de una lista de marcas e imprimir cada marca solamente si tiene 6 letras o más.\n"
   ]
  },
  {
   "cell_type": "code",
   "execution_count": 79,
   "id": "a2d5d6e5",
   "metadata": {},
   "outputs": [
    {
     "name": "stdout",
     "output_type": "stream",
     "text": [
      "La marca Adidas tiene 6 letras o más\n",
      "La marca Under Armour tiene 6 letras o más\n"
     ]
    }
   ],
   "source": [
    "lista_marcas = [\"Nike\", \"Adidas\", \"Puma\", \"Under Armour\",]\n",
    "\n",
    "for marcas in lista_marcas:\n",
    "    if len(marcas) >= 6:\n",
    "        print(f\"La marca {marcas} tiene 6 letras o más\")"
   ]
  },
  {
   "cell_type": "code",
   "execution_count": 81,
   "id": "259150e7",
   "metadata": {},
   "outputs": [
    {
     "name": "stdout",
     "output_type": "stream",
     "text": [
      "3\n"
     ]
    }
   ],
   "source": [
    "print (len(\"Ara\"))"
   ]
  },
  {
   "cell_type": "markdown",
   "id": "586f39b4",
   "metadata": {},
   "source": []
  },
  {
   "cell_type": "code",
   "execution_count": null,
   "id": "6f4b4414",
   "metadata": {},
   "outputs": [
    {
     "name": "stdout",
     "output_type": "stream",
     "text": [
      "Se ha encontrado una letra O\n",
      "Se ha encontrado una letra O\n",
      "Se ha encontrado una letra O\n",
      "Se han encontrado 3 veces la letra 'O' \n"
     ]
    }
   ],
   "source": [
    "letra_o = 0\n",
    "\n",
    "frase = input('Ingrese una frase')\n",
    "\n",
    "for letra in frase:\n",
    "    if letra == \"o\" or letra == \"O\":\n",
    "        letra_o = letra_o + 1\n",
    "        print(\"Se ha encontrado una letra O\")\n",
    "\n",
    "print(f\"Se han encontrado {letra_o} veces la letra 'O' \")"
   ]
  }
 ],
 "metadata": {
  "kernelspec": {
   "display_name": ".venv",
   "language": "python",
   "name": "python3"
  },
  "language_info": {
   "codemirror_mode": {
    "name": "ipython",
    "version": 3
   },
   "file_extension": ".py",
   "mimetype": "text/x-python",
   "name": "python",
   "nbconvert_exporter": "python",
   "pygments_lexer": "ipython3",
   "version": "3.13.5"
  }
 },
 "nbformat": 4,
 "nbformat_minor": 5
}
